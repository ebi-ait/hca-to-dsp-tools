{
 "cells": [
  {
   "cell_type": "markdown",
   "metadata": {},
   "source": [
    "# Start and installation\n",
    "\n",
    "Import the module to your python environment. You will need to install the packages first by running `pip install -r requirements.txt` at the root of this document.\n",
    "\n",
    "# First steps\n",
    "\n",
    "Create a file called `cred.txt` on the same folder from where you'll be using the script. This file has to contain (In order):\n",
    "```\n",
    "USER=<your_aap_username>\n",
    "PASSWORD=<your_aap_password>\n",
    "ROOT=<DSP_api_root>\n",
    "```\n",
    "\n",
    "The API root can either be `https://submission-test.ebi.ac.uk/api/` for the -test environments or `https://submission.ebi.ac.uk/api/` for the production environment.\n",
    "\n",
    "Please check the root of the repository if you have doubts about what the user and the password are.\n",
    "\n",
    "`cred.txt` is ignored by the repository, so don't fear to accidentally upload it if you push changes.\n",
    "\n",
    "# Running the script\n",
    "\n",
    "Once everything has been set up, we can begin with the code:"
   ]
  },
  {
   "cell_type": "code",
   "execution_count": 1,
   "metadata": {},
   "outputs": [],
   "source": [
    "import DSP_submission as ds # Import the object\n",
    "\n",
    "dsp = ds.DspCLI()"
   ]
  },
  {
   "cell_type": "markdown",
   "metadata": {},
   "source": [
    "The code is documented and everything can be accessed through the `help()` command in python. For example, if we would like to know all the methods available to the user and a description:"
   ]
  },
  {
   "cell_type": "code",
   "execution_count": 2,
   "metadata": {},
   "outputs": [
    {
     "name": "stdout",
     "output_type": "stream",
     "text": [
      "Help on DspCLI in module DSP_submission object:\n",
      "\n",
      "class DspCLI(builtins.object)\n",
      " |  Methods defined here:\n",
      " |  \n",
      " |  __init__(self)\n",
      " |      Initialize self.  See help(type(self)) for accurate signature.\n",
      " |  \n",
      " |  create_new_team(self, description: str, centre_name: str) -> True\n",
      " |      Create a new team for the user.\n",
      " |      :param description : str\n",
      " |                           Brief description of the team\n",
      " |      :param centre_name : str\n",
      " |                           Name of the centre of the submission (e.g. EBI)\n",
      " |      :returns response : requests.Response\n",
      " |                          Response object from requests module\n",
      " |  \n",
      " |  create_submission(self, name: str = '') -> True\n",
      " |      Create an empty submission within the selected team.\n",
      " |      :param name: str\n",
      " |                   Name of the submission. If not specified the submission will be identified by its UUID.\n",
      " |      :returns response : requests.Response\n",
      " |                          Response object from requests module\n",
      " |  \n",
      " |  create_submittable(self, json_content: True, submittable_type: str = '') -> True\n",
      " |      Creates a submittable given JSON dictionary with the contents of the submittable\n",
      " |      :param json_content : dict or str\n",
      " |                            JSON content in the form of a python dictionary. A string can be provided and it will be\n",
      " |                            treated as a file path\n",
      " |      :param submittable_type : str\n",
      " |                                Submittable type. Optional as it can be chosen within the method by manual input.\n",
      " |      :returns new_submittable : requests.Response or None\n",
      " |                                 Response object containing the response for the new submission or None if\n",
      " |                                 submission is completed or JSON file was not found.\n",
      " |  \n",
      " |  delete_file(self, filename: str) -> requests.models.Response\n",
      " |      Delete a file. Can't delete files that are being uploaded.\n",
      " |      :param filename : Filename of the file that you want to re-upload\n",
      " |      :return:\n",
      " |  \n",
      " |  delete_submittable(self, submittable_type: str, alias: str = '')\n",
      " |      Deletes a submittable. Alias is optional but helps find the submittable.\n",
      " |      :param submittable_type : str\n",
      " |                                Submittable type. Optional as it can be chosen within the method by manual input.\n",
      " |      :param alias : str\n",
      " |                     Alias of the submittable in the submission. Optional.\n",
      " |      :returns deleted_submittable : requests.Response or None\n",
      " |                                     Response object containing the response for the deletion. None if submission\n",
      " |                                     is completed or submittable was not found.\n",
      " |  \n",
      " |  finish_submission(self) -> True\n",
      " |      Finish a submission. Submissions can only be finished if it isn't finished and there's no blocker.\n",
      " |      :returns response or None : requests.Response or None\n",
      " |                                  Response to the creation or None if submission can't be finished.\n",
      " |  \n",
      " |  replace_submittable(self, json_content: True, submittable_type: str = '') -> True\n",
      " |      Replaces a submittable given a JSON dictionary with the contents of the submittable\n",
      " |      :param json_content : dict or str\n",
      " |                            JSON content in the form of a python dictionary. A string can be provided and it will be\n",
      " |                            treated as a file path\n",
      " |      :param submittable_type : str\n",
      " |                                Submittable type. Optional as it can be chosen within the method by manual input.\n",
      " |      :returns replaced_submittable : requests.Response or None\n",
      " |                                      Response object containing the response for the replacement. None if submission\n",
      " |                                      is completed or JSON file was not found.\n",
      " |  \n",
      " |  resume_file(self, path_to_file: str, chunk_size: int = 1024000) -> None\n",
      " |      Resume file upload\n",
      " |      :param path_to_file : str\n",
      " |                            path to the file\n",
      " |      :param chunk_size : int\n",
      " |                          Chunk size in bytes. Defaults to 10 MB\n",
      " |      :returns None : None\n",
      " |  \n",
      " |  select_submission(self) -> True\n",
      " |      Select a submission within a team to work in.\n",
      " |      :returns self.submission : dict or None\n",
      " |                                 JSON representation of root of selected submission or None if no submissions\n",
      " |                                 available\n",
      " |  \n",
      " |  select_team(self) -> True\n",
      " |      Select a team to work in. Teams correspond to domains in the EBI AAP.\n",
      " |      \n",
      " |      :return self.team : dict\n",
      " |                          Dictionary containing the JSON contents for the selected team\n",
      " |              teams : None\n",
      " |                      If there are no teams it will return None\n",
      " |  \n",
      " |  show_accepted_submittables(self) -> None\n",
      " |      Print accepted submittables to the user\n",
      " |  \n",
      " |  show_processing_statuses(self)\n",
      " |      Show all the available processing statuses for a submission.\n",
      " |      :returns self.processing_status: list\n",
      " |                                       List with all the processing statuses\n",
      " |  \n",
      " |  show_submission_status(self) -> str\n",
      " |      Print and return the status of a submission. Status can be Draft, Submitted.\n",
      " |      :returns self.submission_status : str\n",
      " |                                        Submission status.\n",
      " |  \n",
      " |  show_submissions(self) -> True\n",
      " |      Shows the available submissions for a team. If no team has been selected, calls `self.select_team()` first.\n",
      " |      :returns submission_list : list or None\n",
      " |                                 list of submission responses. Will return `None` if there are no submissions\n",
      " |  \n",
      " |  show_submittable_names(self, submittable_type: str = '')\n",
      " |      Show the names of the submittables of a certain submittable type in a submission.\n",
      " |      :param submittable_type : str\n",
      " |                                Submittable type. Optional as it can be chosen within the method by manual input.\n",
      " |      :returns submittables : list\n",
      " |                              List of submittables for that submittable type in the selected submission.\n",
      " |  \n",
      " |  show_teams(self) -> list\n",
      " |      Show the teams available to the user\n",
      " |      :returns\n",
      " |  \n",
      " |  show_validation_errors(self) -> dict\n",
      " |  \n",
      " |  show_validation_results(self) -> list\n",
      " |      Show all validation results for a submission\n",
      " |      \n",
      " |      :returns validation_results : list or None\n",
      " |                                    list of all the validation results. If submission is not available, return None.\n",
      " |  \n",
      " |  submit_directory(self, directory: str) -> dict\n",
      " |      Submit a directory containing JSON files for a submission\n",
      " |      :param directory : str\n",
      " |                         Path to the directory\n",
      " |      :returns self.submission_content.get('_links) : dict\n",
      " |                                                      links to check on the submission contents by\n",
      " |  \n",
      " |  upload_file(self, path_to_file: str, chunk_size: int = 1024000) -> None\n",
      " |      Upload a file to the DSP.\n",
      " |      :param path_to_file : str\n",
      " |                            Path to the file\n",
      " |      :param chunk_size : int\n",
      " |                          Chunk size in bytes. Defaults to 10 MB\n",
      " |      :returns None : None\n",
      " |  \n",
      " |  ----------------------------------------------------------------------\n",
      " |  Data descriptors defined here:\n",
      " |  \n",
      " |  __dict__\n",
      " |      dictionary for instance variables (if defined)\n",
      " |  \n",
      " |  __weakref__\n",
      " |      list of weak references to the object (if defined)\n",
      "\n"
     ]
    }
   ],
   "source": [
    "help(dsp)"
   ]
  },
  {
   "cell_type": "markdown",
   "metadata": {},
   "source": [
    "But you can look at a specific question:"
   ]
  },
  {
   "cell_type": "code",
   "execution_count": 3,
   "metadata": {},
   "outputs": [
    {
     "name": "stdout",
     "output_type": "stream",
     "text": [
      "Help on method create_new_team in module DSP_submission:\n",
      "\n",
      "create_new_team(description: str, centre_name: str) -> True method of DSP_submission.DspCLI instance\n",
      "    Create a new team for the user.\n",
      "    :param description : str\n",
      "                         Brief description of the team\n",
      "    :param centre_name : str\n",
      "                         Name of the centre of the submission (e.g. EBI)\n",
      "    :returns response : requests.Response\n",
      "                        Response object from requests module\n",
      "\n"
     ]
    }
   ],
   "source": [
    "help(dsp.create_new_team)"
   ]
  },
  {
   "cell_type": "markdown",
   "metadata": {},
   "source": [
    "## Creating and selecting a team and a submission\n",
    "\n",
    "On this notebook, we're going to go through the whole process of a mock submission. In order to do so, we need to begin by creating a team:"
   ]
  },
  {
   "cell_type": "code",
   "execution_count": 4,
   "metadata": {},
   "outputs": [
    {
     "data": {
      "text/plain": [
       "<Response [201]>"
      ]
     },
     "execution_count": 4,
     "metadata": {},
     "output_type": "execute_result"
    }
   ],
   "source": [
    "dsp.create_new_team(description=\"Mock for notebook\", centre_name=\"EBI\")"
   ]
  },
  {
   "cell_type": "markdown",
   "metadata": {},
   "source": [
    "Response 201 means that it has successfully been created. Now we will proceed to select the team:"
   ]
  },
  {
   "cell_type": "code",
   "execution_count": 5,
   "metadata": {},
   "outputs": [
    {
     "name": "stdout",
     "output_type": "stream",
     "text": [
      "The teams are the following:\n",
      "1 - subs.test-team-67\n",
      "2 - subs.test-team-64\n",
      "3 - subs.test-team-60\n",
      "4 - subs.test-team-61\n",
      "5 - subs.test-team-62\n",
      "Please select a number: 1\n"
     ]
    },
    {
     "data": {
      "text/plain": [
       "{'name': 'subs.test-team-67',\n",
       " 'description': 'Mock for notebook',\n",
       " 'profile': {'centre name': 'EBI'},\n",
       " '_links': {'submissions': {'href': 'https://submission-test.ebi.ac.uk/api/submissions/search/by-team?teamName=subs.test-team-67'},\n",
       "  'submissions:create': {'href': 'https://submission-test.ebi.ac.uk/api/teams/subs.test-team-67/submissions'},\n",
       "  'items': {'href': 'https://submission-test.ebi.ac.uk/api/teams/subs.test-team-67/items'}}}"
      ]
     },
     "execution_count": 5,
     "metadata": {},
     "output_type": "execute_result"
    }
   ],
   "source": [
    "dsp.select_team()"
   ]
  },
  {
   "cell_type": "markdown",
   "metadata": {},
   "source": [
    "DSP assigns the name automatically, so it might be kinda hard to find your team if you have more than one. This function also returns a JSON with the team content, so this could be solved with a wrapper around this function.\n",
    "\n",
    "Next step is to create a submission:"
   ]
  },
  {
   "cell_type": "code",
   "execution_count": 6,
   "metadata": {},
   "outputs": [
    {
     "data": {
      "text/plain": [
       "<Response [201]>"
      ]
     },
     "execution_count": 6,
     "metadata": {},
     "output_type": "execute_result"
    }
   ],
   "source": [
    "dsp.create_submission(name='Mock_submission')"
   ]
  },
  {
   "cell_type": "markdown",
   "metadata": {},
   "source": [
    "And select it:"
   ]
  },
  {
   "cell_type": "code",
   "execution_count": 7,
   "metadata": {},
   "outputs": [
    {
     "name": "stdout",
     "output_type": "stream",
     "text": [
      "Submissions available for team 'subs.test-team-67' are the following:\n",
      "1 - Name: Mock_submission\n",
      "Please select a number: 1\n"
     ]
    },
    {
     "data": {
      "text/plain": [
       "{'id': 'bbab567e-ca24-4560-a683-7259e5a1b442',\n",
       " 'submitter': {'email': 'enrique@ebi.ac.uk', 'name': 'Enrique Sapena Ventura'},\n",
       " 'team': {'name': 'subs.test-team-67',\n",
       "  'description': 'Mock for notebook',\n",
       "  'profile': {'centre name': 'EBI'},\n",
       "  '_links': {'submissions': {'href': 'https://submission-test.ebi.ac.uk/api/submissions/search/by-team?teamName=subs.test-team-67'},\n",
       "   'submissions:create': {'href': 'https://submission-test.ebi.ac.uk/api/teams/subs.test-team-67/submissions'},\n",
       "   'items': {'href': 'https://submission-test.ebi.ac.uk/api/teams/subs.test-team-67/items'}}},\n",
       " 'createdDate': '2020-02-21T16:07:08.688+0000',\n",
       " 'lastModifiedDate': '2020-02-21T16:07:08.688+0000',\n",
       " 'createdBy': 'usr-19dace37-479e-4ce3-b661-3bc7901eb996',\n",
       " 'lastModifiedBy': 'usr-19dace37-479e-4ce3-b661-3bc7901eb996',\n",
       " 'name': 'Mock_submission',\n",
       " '_links': {'self': {'href': 'https://submission-test.ebi.ac.uk/api/submissions/bbab567e-ca24-4560-a683-7259e5a1b442'},\n",
       "  'submission': {'href': 'https://submission-test.ebi.ac.uk/api/submissions/bbab567e-ca24-4560-a683-7259e5a1b442{?projection}',\n",
       "   'templated': True},\n",
       "  'team': {'href': 'https://submission-test.ebi.ac.uk/api/teams/subs.test-team-67'},\n",
       "  'contents': {'href': 'https://submission-test.ebi.ac.uk/api/submissions/bbab567e-ca24-4560-a683-7259e5a1b442/contents'},\n",
       "  'validationResults': {'href': 'https://submission-test.ebi.ac.uk/api/validationResults/search/by-submission?submissionId=bbab567e-ca24-4560-a683-7259e5a1b442'},\n",
       "  'self:update': {'href': 'https://submission-test.ebi.ac.uk/api/submissions/bbab567e-ca24-4560-a683-7259e5a1b442'},\n",
       "  'self:delete': {'href': 'https://submission-test.ebi.ac.uk/api/submissions/bbab567e-ca24-4560-a683-7259e5a1b442'},\n",
       "  'submissionStatus': {'href': 'https://submission-test.ebi.ac.uk/api/submissions/bbab567e-ca24-4560-a683-7259e5a1b442/submissionStatus'},\n",
       "  'availableStatuses': {'href': 'https://submission-test.ebi.ac.uk/api/submissions/bbab567e-ca24-4560-a683-7259e5a1b442/availableSubmissionStatuses'},\n",
       "  'processingStatusSummary': {'href': 'https://submission-test.ebi.ac.uk/api/submissions/bbab567e-ca24-4560-a683-7259e5a1b442/processingStatusSummaryCounts'},\n",
       "  'submissionBlockersSummary': {'href': 'https://submission-test.ebi.ac.uk/api/submissions/bbab567e-ca24-4560-a683-7259e5a1b442/submissionBlockersSummary'},\n",
       "  'typeProcessingStatusSummary': {'href': 'https://submission-test.ebi.ac.uk/api/submissions/bbab567e-ca24-4560-a683-7259e5a1b442/processingStatusSummaryTypeCounts'},\n",
       "  'processingStatuses': {'href': 'https://submission-test.ebi.ac.uk/api/processingStatuses/search/findBySubmissionId?submissionId=bbab567e-ca24-4560-a683-7259e5a1b442'}}}"
      ]
     },
     "execution_count": 7,
     "metadata": {},
     "output_type": "execute_result"
    }
   ],
   "source": [
    "dsp.select_submission()"
   ]
  },
  {
   "cell_type": "markdown",
   "metadata": {},
   "source": [
    "This returns the submission, but you don't need to worry about that. \n",
    "\n",
    "If, at some point, you just want to look at what submissions are available for a team, you can also run:"
   ]
  },
  {
   "cell_type": "code",
   "execution_count": 8,
   "metadata": {},
   "outputs": [
    {
     "name": "stdout",
     "output_type": "stream",
     "text": [
      "Submissions available for team 'subs.test-team-67' are the following:\n",
      "1 - Name: Mock_submission\n"
     ]
    },
    {
     "data": {
      "text/plain": [
       "[{'name': 'Mock_submission',\n",
       "  'team': 'subs.test-team-67',\n",
       "  'createdDate': '2020-02-21T16:07:08.688+0000',\n",
       "  'lastModifiedDate': '2020-02-21T16:07:08.688+0000',\n",
       "  'lastModifiedBy': 'usr-19dace37-479e-4ce3-b661-3bc7901eb996',\n",
       "  'submissionStatus': 'Draft',\n",
       "  'createdBy': 'usr-19dace37-479e-4ce3-b661-3bc7901eb996',\n",
       "  'submitter': 'enrique@ebi.ac.uk',\n",
       "  '_links': {'self': {'href': 'https://submission-test.ebi.ac.uk/api/submissions/bbab567e-ca24-4560-a683-7259e5a1b442'},\n",
       "   'submission': {'href': 'https://submission-test.ebi.ac.uk/api/submissions/bbab567e-ca24-4560-a683-7259e5a1b442{?projection}',\n",
       "    'templated': True},\n",
       "   'submissionStatus': {'href': 'https://submission-test.ebi.ac.uk/api/submissions/bbab567e-ca24-4560-a683-7259e5a1b442/submissionStatus'},\n",
       "   'submissionPlan': {'href': 'https://submission-test.ebi.ac.uk/api/submissions/bbab567e-ca24-4560-a683-7259e5a1b442/submissionPlan'}}}]"
      ]
     },
     "execution_count": 8,
     "metadata": {},
     "output_type": "execute_result"
    }
   ],
   "source": [
    "dsp.show_submissions()"
   ]
  },
  {
   "cell_type": "markdown",
   "metadata": {},
   "source": [
    "Or show the available teams for the user:"
   ]
  },
  {
   "cell_type": "code",
   "execution_count": 9,
   "metadata": {},
   "outputs": [
    {
     "name": "stdout",
     "output_type": "stream",
     "text": [
      "The teams are the following:\n",
      "1 - subs.test-team-67\n",
      "2 - subs.test-team-64\n",
      "3 - subs.test-team-60\n",
      "4 - subs.test-team-61\n",
      "5 - subs.test-team-62\n"
     ]
    },
    {
     "data": {
      "text/plain": [
       "[{'name': 'subs.test-team-67',\n",
       "  'description': 'Mock for notebook',\n",
       "  'profile': {'centre name': 'EBI'},\n",
       "  '_links': {'submissions': {'href': 'https://submission-test.ebi.ac.uk/api/submissions/search/by-team?teamName=subs.test-team-67'},\n",
       "   'submissions:create': {'href': 'https://submission-test.ebi.ac.uk/api/teams/subs.test-team-67/submissions'},\n",
       "   'items': {'href': 'https://submission-test.ebi.ac.uk/api/teams/subs.test-team-67/items'}}},\n",
       " {'name': 'subs.test-team-64',\n",
       "  'description': 'New_team_to_test',\n",
       "  'profile': {'centre name': 'Test to see if new team needed per submission'},\n",
       "  '_links': {'submissions': {'href': 'https://submission-test.ebi.ac.uk/api/submissions/search/by-team?teamName=subs.test-team-64'},\n",
       "   'submissions:create': {'href': 'https://submission-test.ebi.ac.uk/api/teams/subs.test-team-64/submissions'},\n",
       "   'items': {'href': 'https://submission-test.ebi.ac.uk/api/teams/subs.test-team-64/items'}}},\n",
       " {'name': 'subs.test-team-60',\n",
       "  'description': 'EBI-Test',\n",
       "  'profile': {'centre name': 'EMBL-EBI'},\n",
       "  '_links': {'submissions': {'href': 'https://submission-test.ebi.ac.uk/api/submissions/search/by-team?teamName=subs.test-team-60'},\n",
       "   'submissions:create': {'href': 'https://submission-test.ebi.ac.uk/api/teams/subs.test-team-60/submissions'},\n",
       "   'items': {'href': 'https://submission-test.ebi.ac.uk/api/teams/subs.test-team-60/items'}}},\n",
       " {'name': 'subs.test-team-61',\n",
       "  'description': 'https://submission-test.ebi.ac.uk/api/user/teams/',\n",
       "  'profile': {'centre name': 'Wong-Test-submission'},\n",
       "  '_links': {'submissions': {'href': 'https://submission-test.ebi.ac.uk/api/submissions/search/by-team?teamName=subs.test-team-61'},\n",
       "   'submissions:create': {'href': 'https://submission-test.ebi.ac.uk/api/teams/subs.test-team-61/submissions'},\n",
       "   'items': {'href': 'https://submission-test.ebi.ac.uk/api/teams/subs.test-team-61/items'}}},\n",
       " {'name': 'subs.test-team-62',\n",
       "  'description': 'Submission test team for the HCA',\n",
       "  'profile': {'centre name': 'European Bioinformatics Institute(EMBL-EBI)'},\n",
       "  '_links': {'submissions': {'href': 'https://submission-test.ebi.ac.uk/api/submissions/search/by-team?teamName=subs.test-team-62'},\n",
       "   'submissions:create': {'href': 'https://submission-test.ebi.ac.uk/api/teams/subs.test-team-62/submissions'},\n",
       "   'items': {'href': 'https://submission-test.ebi.ac.uk/api/teams/subs.test-team-62/items'}}}]"
      ]
     },
     "execution_count": 9,
     "metadata": {},
     "output_type": "execute_result"
    }
   ],
   "source": [
    "dsp.show_teams()"
   ]
  },
  {
   "cell_type": "markdown",
   "metadata": {},
   "source": [
    "# I have my submission created. Now what?\n",
    "\n",
    "Once you have your submission created and you have selected it (Not necessary when creating), the next step is to determine where are your submittables. **This guide assumes you already have the submittable JSONs ready**.\n",
    "\n",
    "As you might (Or might not) know, the DSP divides the \"submittables\" in 5 different categories, which will be validated differently. We have a hardcoded list of accepted submittables as an attribute of the object:"
   ]
  },
  {
   "cell_type": "code",
   "execution_count": 10,
   "metadata": {},
   "outputs": [
    {
     "name": "stdout",
     "output_type": "stream",
     "text": [
      "1 - projects\n",
      "2 - samples\n",
      "3 - study\n",
      "4 - assays\n",
      "5 - assay_data\n"
     ]
    }
   ],
   "source": [
    "dsp.show_accepted_submittables()"
   ]
  },
  {
   "cell_type": "markdown",
   "metadata": {},
   "source": [
    "From here, you have 2 options:\n",
    "\n",
    "1. Push the submittables from a directory with the function `self.submit_directory(directory_name)`\n",
    "1. Push the submittables one by one with the function `self.create_submittable(json_content, submittable_type).\n",
    "\n",
    "The first one is strongly discouraged as it requires all the submittables to have a filename like `<submittable_type>__<submittable_name>.json` (e.g. `samples__cell_suspension_1.json`) and doesn't account for validation errors due to sample linking.\n",
    "\n",
    "For the purpose of this walkthrough, we will submit one by one by using the first function. As the json content, you can either pass a python dictionary with the content of the submittable or a string with the path of a JSON file. We will also check that the submittable has been created correctly:"
   ]
  },
  {
   "cell_type": "code",
   "execution_count": null,
   "metadata": {},
   "outputs": [],
   "source": [
    "submittables_directory = '/Users/enrique/HumanCellAtlas/hca-to-dsp-tools/' # This is where the submittables are\n",
    "\n",
    "submittables = ['assay_data__5386STDY7557335.bam.json',\n",
    "                'assays__lib_5.json',\n",
    "                'projects__EmbryonicHindlimb.json',\n",
    "                'samples__BRC2091.json',\n",
    "                'samples__C4-FSM-0-SC-1.json',\n",
    "                'samples__cell_suspension_5.json',\n",
    "                'study__EmbryonicHindlimb.json']\n"
   ]
  }
 ],
 "metadata": {
  "kernelspec": {
   "display_name": "Python 3",
   "language": "python",
   "name": "python3"
  },
  "language_info": {
   "codemirror_mode": {
    "name": "ipython",
    "version": 3
   },
   "file_extension": ".py",
   "mimetype": "text/x-python",
   "name": "python",
   "nbconvert_exporter": "python",
   "pygments_lexer": "ipython3",
   "version": "3.7.5"
  }
 },
 "nbformat": 4,
 "nbformat_minor": 2
}
