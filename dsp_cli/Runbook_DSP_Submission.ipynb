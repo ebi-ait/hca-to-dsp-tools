{
 "cells": [
  {
   "cell_type": "markdown",
   "metadata": {},
   "source": [
    "# Start and installation\n",
    "\n",
    "Import the module to your python environment. You will need to install the requirements of the repository first by running `pip install -r requirements.txt` at the root of this document.\n",
    "\n",
    "# First steps\n",
    "\n",
    "Create a file called `cred.txt` on the same folder from where you'll be using the script. This file has to contain (In order):\n",
    "```\n",
    "USER=<your_aap_username>\n",
    "PASSWORD=<your_aap_password>\n",
    "ROOT=<DSP_api_root>\n",
    "```\n",
    "\n",
    "The API root can either be `https://submission-test.ebi.ac.uk/api/` for the -test environments or `https://submission.ebi.ac.uk/api/` for the production environment.\n",
    "\n",
    "Please check the root of the repository if you have doubts about what the user and the password are.\n",
    "\n",
    "`cred.txt` is ignored by the repository, so don't fear to accidentally upload it if you push changes.\n",
    "\n",
    "Most of the functions have outputs that can be used by wrapper functions. If you want to see these outputs, just delete the `;` at the end of the code blocks.\n",
    "\n",
    "# Running the script\n",
    "\n",
    "Once everything has been set up, we can begin with the code:"
   ]
  },
  {
   "cell_type": "code",
   "execution_count": 1,
   "metadata": {},
   "outputs": [],
   "source": [
    "import DSP_submission as ds # Import the object\n",
    "\n",
    "dsp = ds.DspCLI()"
   ]
  },
  {
   "cell_type": "markdown",
   "metadata": {},
   "source": [
    "The code is documented and everything can be accessed through the `help()` command in python. For example, if we would like to know all the methods available to the user and a description:"
   ]
  },
  {
   "cell_type": "code",
   "execution_count": 2,
   "metadata": {},
   "outputs": [
    {
     "name": "stdout",
     "output_type": "stream",
     "text": [
      "Help on DspCLI in module DSP_submission object:\n",
      "\n",
      "class DspCLI(builtins.object)\n",
      " |  Methods defined here:\n",
      " |  \n",
      " |  __init__(self)\n",
      " |      Initialize self.  See help(type(self)) for accurate signature.\n",
      " |  \n",
      " |  create_new_team(self, description: str, centre_name: str) -> True\n",
      " |      Create a new team for the user.\n",
      " |      :param description : str\n",
      " |                           Brief description of the team\n",
      " |      :param centre_name : str\n",
      " |                           Name of the centre of the submission (e.g. EBI)\n",
      " |      :returns response : requests.Response\n",
      " |                          Response object from requests module\n",
      " |  \n",
      " |  create_submission(self, name: str = '') -> True\n",
      " |      Create an empty submission within the selected team.\n",
      " |      :param name: str\n",
      " |                   Name of the submission. If not specified the submission will be identified by its UUID.\n",
      " |      :returns response : requests.Response\n",
      " |                          Response object from requests module\n",
      " |  \n",
      " |  create_submittable(self, json_content: True, submittable_type: str = '') -> True\n",
      " |      Creates a submittable given JSON dictionary with the contents of the submittable\n",
      " |      :param json_content : dict or str\n",
      " |                            JSON content in the form of a python dictionary. A string can be provided and it will be\n",
      " |                            treated as a file path\n",
      " |      :param submittable_type : str\n",
      " |                                Submittable type. Optional as it can be chosen within the method by manual input.\n",
      " |      :returns new_submittable : requests.Response or None\n",
      " |                                 Response object containing the response for the new submission or None if\n",
      " |                                 submission is completed or JSON file was not found.\n",
      " |  \n",
      " |  delete_file(self, filename: str) -> requests.models.Response\n",
      " |      Delete a file. Can't delete files that are being uploaded.\n",
      " |      :param filename : Filename of the file that you want to re-upload\n",
      " |      :return:\n",
      " |  \n",
      " |  delete_submittable(self, submittable_type: str, alias: str = '')\n",
      " |      Deletes a submittable. Alias is optional but helps find the submittable.\n",
      " |      :param submittable_type : str\n",
      " |                                Submittable type. Optional as it can be chosen within the method by manual input.\n",
      " |      :param alias : str\n",
      " |                     Alias of the submittable in the submission. Optional.\n",
      " |      :returns deleted_submittable : requests.Response or None\n",
      " |                                     Response object containing the response for the deletion. None if submission\n",
      " |                                     is completed or submittable was not found.\n",
      " |  \n",
      " |  finish_submission(self) -> True\n",
      " |      Finish a submission. Submissions can only be finished if it isn't finished and there's no blocker.\n",
      " |      :returns response or None : requests.Response or None\n",
      " |                                  Response to the creation or None if submission can't be finished.\n",
      " |  \n",
      " |  replace_submittable(self, json_content: True, submittable_type: str = '') -> True\n",
      " |      Replaces a submittable given a JSON dictionary with the contents of the submittable\n",
      " |      :param json_content : dict or str\n",
      " |                            JSON content in the form of a python dictionary. A string can be provided and it will be\n",
      " |                            treated as a file path\n",
      " |      :param submittable_type : str\n",
      " |                                Submittable type. Optional as it can be chosen within the method by manual input.\n",
      " |      :returns replaced_submittable : requests.Response or None\n",
      " |                                      Response object containing the response for the replacement. None if submission\n",
      " |                                      is completed or JSON file was not found.\n",
      " |  \n",
      " |  resume_file_upload(self, path_to_file: str, chunk_size: int = 1024000) -> None\n",
      " |      Resume file upload\n",
      " |      :param path_to_file : str\n",
      " |                            path to the file\n",
      " |      :param chunk_size : int\n",
      " |                          Chunk size in bytes. Defaults to 10 MB\n",
      " |      :returns None : None\n",
      " |  \n",
      " |  select_submission(self) -> True\n",
      " |      Select a submission within a team to work in.\n",
      " |      :returns self.submission : dict or None\n",
      " |                                 JSON representation of root of selected submission or None if no submissions\n",
      " |                                 available\n",
      " |  \n",
      " |  select_team(self) -> True\n",
      " |      Select a team to work in. Teams correspond to domains in the EBI AAP.\n",
      " |      \n",
      " |      :return self.team : dict\n",
      " |                          Dictionary containing the JSON contents for the selected team\n",
      " |              teams : None\n",
      " |                      If there are no teams it will return None\n",
      " |  \n",
      " |  show_accepted_submittables(self) -> None\n",
      " |      Print accepted submittables to the user\n",
      " |  \n",
      " |  show_processing_statuses(self)\n",
      " |      Show all the available processing statuses for a submission.\n",
      " |      :returns self.processing_status: list\n",
      " |                                       List with all the processing statuses\n",
      " |  \n",
      " |  show_submission_status(self) -> str\n",
      " |      Print and return the status of a submission. Status can be Draft, Submitted.\n",
      " |      :returns self.submission_status : str\n",
      " |                                        Submission status.\n",
      " |  \n",
      " |  show_submissions(self) -> True\n",
      " |      Shows the available submissions for a team. If no team has been selected, calls `self.select_team()` first.\n",
      " |      :returns submission_list : list or None\n",
      " |                                 list of submission responses. Will return `None` if there are no submissions\n",
      " |  \n",
      " |  show_submittable_names(self, submittable_type: str = '')\n",
      " |      Show the names of the submittables of a certain submittable type in a submission.\n",
      " |      :param submittable_type : str\n",
      " |                                Submittable type. Optional as it can be chosen within the method by manual input.\n",
      " |      :returns submittables : list\n",
      " |                              List of submittables for that submittable type in the selected submission.\n",
      " |  \n",
      " |  show_teams(self) -> list\n",
      " |      Show the teams available to the user\n",
      " |      :returns\n",
      " |  \n",
      " |  show_validation_errors(self) -> dict\n",
      " |  \n",
      " |  show_validation_results(self) -> list\n",
      " |      Show all validation results for a submission\n",
      " |      \n",
      " |      :returns validation_results : list or None\n",
      " |                                    list of all the validation results. If submission is not available, return None.\n",
      " |  \n",
      " |  submit_directory(self, directory: str) -> dict\n",
      " |      Submit a directory containing JSON files for a submission\n",
      " |      :param directory : str\n",
      " |                         Path to the directory\n",
      " |      :returns self.submission_content.get('_links) : dict\n",
      " |                                                      links to check on the submission contents by\n",
      " |  \n",
      " |  upload_file(self, path_to_file: str, chunk_size: int = 1024000) -> None\n",
      " |      Upload a file to the DSP.\n",
      " |      :param path_to_file : str\n",
      " |                            Path to the file\n",
      " |      :param chunk_size : int\n",
      " |                          Chunk size in bytes. Defaults to 10 MB\n",
      " |      :returns None : None\n",
      " |  \n",
      " |  ----------------------------------------------------------------------\n",
      " |  Data descriptors defined here:\n",
      " |  \n",
      " |  __dict__\n",
      " |      dictionary for instance variables (if defined)\n",
      " |  \n",
      " |  __weakref__\n",
      " |      list of weak references to the object (if defined)\n",
      "\n"
     ]
    }
   ],
   "source": [
    "help(dsp)"
   ]
  },
  {
   "cell_type": "markdown",
   "metadata": {},
   "source": [
    "But you can look at a specific question:"
   ]
  },
  {
   "cell_type": "code",
   "execution_count": null,
   "metadata": {},
   "outputs": [],
   "source": [
    "help(dsp.create_new_team)"
   ]
  },
  {
   "cell_type": "markdown",
   "metadata": {},
   "source": [
    "## Creating and selecting a team and a submission\n",
    "\n",
    "On this notebook, we're going to go through the whole process of a mock submission. In order to do so, we need to begin by creating a team:"
   ]
  },
  {
   "cell_type": "code",
   "execution_count": 3,
   "metadata": {},
   "outputs": [
    {
     "data": {
      "text/plain": [
       "<Response [201]>"
      ]
     },
     "execution_count": 3,
     "metadata": {},
     "output_type": "execute_result"
    }
   ],
   "source": [
    "dsp.create_new_team(description=\"Mock for notebook\", centre_name=\"EBI\")"
   ]
  },
  {
   "cell_type": "markdown",
   "metadata": {},
   "source": [
    "Response 201 means that it has successfully been created. Now we will proceed to select the team:"
   ]
  },
  {
   "cell_type": "code",
   "execution_count": 4,
   "metadata": {},
   "outputs": [
    {
     "name": "stdout",
     "output_type": "stream",
     "text": [
      "The teams are the following:\n",
      "1 - subs.test-team-68\n",
      "2 - subs.test-team-64\n",
      "3 - subs.test-team-60\n",
      "4 - subs.test-team-61\n",
      "5 - subs.test-team-62\n",
      "Please select a number: 1\n"
     ]
    },
    {
     "data": {
      "text/plain": [
       "''"
      ]
     },
     "execution_count": 4,
     "metadata": {},
     "output_type": "execute_result"
    }
   ],
   "source": [
    "dsp.select_team()\n",
    ";"
   ]
  },
  {
   "cell_type": "markdown",
   "metadata": {},
   "source": [
    "DSP assigns the name automatically, so it might be kinda hard to find your team if you have more than one. This function also returns a JSON with the team content, so this could be solved with a wrapper around this function.\n",
    "\n",
    "Next step is to create a submission:"
   ]
  },
  {
   "cell_type": "code",
   "execution_count": 5,
   "metadata": {},
   "outputs": [
    {
     "data": {
      "text/plain": [
       "<Response [201]>"
      ]
     },
     "execution_count": 5,
     "metadata": {},
     "output_type": "execute_result"
    }
   ],
   "source": [
    "dsp.create_submission(name='Mock_submission')"
   ]
  },
  {
   "cell_type": "markdown",
   "metadata": {},
   "source": [
    "And select it:"
   ]
  },
  {
   "cell_type": "code",
   "execution_count": 6,
   "metadata": {},
   "outputs": [
    {
     "name": "stdout",
     "output_type": "stream",
     "text": [
      "Submissions available for team 'subs.test-team-68' are the following:\n",
      "1 - Name: Mock_submission\n",
      "Please select a number: 1\n"
     ]
    },
    {
     "data": {
      "text/plain": [
       "''"
      ]
     },
     "execution_count": 6,
     "metadata": {},
     "output_type": "execute_result"
    }
   ],
   "source": [
    "dsp.select_submission()\n",
    ";"
   ]
  },
  {
   "cell_type": "markdown",
   "metadata": {},
   "source": [
    "This returns the submission, but you don't need to worry about that. \n",
    "\n",
    "If, at some point, you just want to look at what submissions are available for a team, you can also run:"
   ]
  },
  {
   "cell_type": "code",
   "execution_count": 7,
   "metadata": {},
   "outputs": [
    {
     "name": "stdout",
     "output_type": "stream",
     "text": [
      "Submissions available for team 'subs.test-team-68' are the following:\n",
      "1 - Name: Mock_submission\n"
     ]
    },
    {
     "data": {
      "text/plain": [
       "''"
      ]
     },
     "execution_count": 7,
     "metadata": {},
     "output_type": "execute_result"
    }
   ],
   "source": [
    "dsp.show_submissions()\n",
    ";"
   ]
  },
  {
   "cell_type": "markdown",
   "metadata": {},
   "source": [
    "Or show the available teams for the user:"
   ]
  },
  {
   "cell_type": "code",
   "execution_count": 8,
   "metadata": {},
   "outputs": [
    {
     "name": "stdout",
     "output_type": "stream",
     "text": [
      "The teams are the following:\n",
      "1 - subs.test-team-68\n",
      "2 - subs.test-team-64\n",
      "3 - subs.test-team-60\n",
      "4 - subs.test-team-61\n",
      "5 - subs.test-team-62\n"
     ]
    },
    {
     "data": {
      "text/plain": [
       "''"
      ]
     },
     "execution_count": 8,
     "metadata": {},
     "output_type": "execute_result"
    }
   ],
   "source": [
    "dsp.show_teams()\n",
    ";"
   ]
  },
  {
   "cell_type": "markdown",
   "metadata": {},
   "source": [
    "# I created my submission. Now what?\n",
    "\n",
    "Once you have your submission created and you have selected it (Not necessary when creating), the next step is to determine where are your submittables. **This guide assumes you already have the submittable JSONs ready**.\n",
    "\n",
    "As you might (Or might not) know, the DSP divides the \"submittables\" in 5 different categories, which will be validated differently. We have a hardcoded list of accepted submittables as an attribute of the object:"
   ]
  },
  {
   "cell_type": "code",
   "execution_count": 9,
   "metadata": {},
   "outputs": [
    {
     "name": "stdout",
     "output_type": "stream",
     "text": [
      "1 - projects\n",
      "2 - samples\n",
      "3 - study\n",
      "4 - assays\n",
      "5 - assay_data\n"
     ]
    }
   ],
   "source": [
    "dsp.show_accepted_submittables()"
   ]
  },
  {
   "cell_type": "markdown",
   "metadata": {},
   "source": [
    "From here, you have 2 options:\n",
    "\n",
    "1. Push the submittables from a directory with the function `self.submit_directory(directory_name)`\n",
    "1. Push the submittables one by one with the function `self.create_submittable(json_content, submittable_type).\n",
    "\n",
    "The first one is strongly discouraged as it requires all the submittables to have a filename like `<submittable_type>__<submittable_name>.json` (e.g. `samples__cell_suspension_1.json`) and doesn't account for validation errors due to sample linking.\n",
    "\n",
    "For the purpose of this walkthrough, we will submit one by one by using the first function. As the json content, you can either pass a python dictionary with the content of the submittable or a string with the path of a JSON file. We will also check that the submittable has been created correctly:"
   ]
  },
  {
   "cell_type": "code",
   "execution_count": 10,
   "metadata": {},
   "outputs": [
    {
     "name": "stdout",
     "output_type": "stream",
     "text": [
      "Creation of projects EmbryonicHindlimb was successful!\n",
      "Creation of enaStudies EmbryonicHindlimb was successful!\n",
      "Creation of sequencingExperiments lib_5 was successful!\n",
      "Creation of sequencingRuns 5386STDY7557335.bam was successful!\n"
     ]
    }
   ],
   "source": [
    "submittables_directory = '/Users/enrique/HumanCellAtlas/hca-to-dsp-tools/test_submission/' # This is where the submittables are\n",
    "\n",
    "submittables = ['projects__EmbryonicHindlimb.json',\n",
    "                'study__EmbryonicHindlimb.json',\n",
    "                'assays__lib_5.json',\n",
    "                'assay_data__5386STDY7557335.bam.json']\n",
    "\n",
    "for submittable in submittables:\n",
    "    submittable_type = submittable.split('__')[0]\n",
    "    submittable_path = submittables_directory + submittable\n",
    "    dsp.create_submittable(submittable_path, submittable_type)"
   ]
  },
  {
   "cell_type": "markdown",
   "metadata": {},
   "source": [
    "You can now check that the submittables are in your submission with the function `self.show_submittable_names(<submittable_type>)`. If we want to check all of the submittables we can iterate over `self.accepted_submission_types`:"
   ]
  },
  {
   "cell_type": "code",
   "execution_count": 11,
   "metadata": {},
   "outputs": [
    {
     "name": "stdout",
     "output_type": "stream",
     "text": [
      "Retrieving all projects. This might take a while...\n",
      "There are 1 projects. Are you sure you want to print them all?[Y/n]\n",
      "Y\n",
      "For submission with ID fa3c1415-82b2-4d11-aa4f-18c1271304c3, projects files are:\n",
      "EmbryonicHindlimb\n",
      "Retrieving all samples. This might take a while...\n",
      "Retrieving all enaStudies. This might take a while...\n",
      "There are 1 enaStudies. Are you sure you want to print them all?[Y/n]\n",
      "Y\n",
      "For submission with ID fa3c1415-82b2-4d11-aa4f-18c1271304c3, enaStudies files are:\n",
      "EmbryonicHindlimb\n",
      "Retrieving all sequencingExperiments. This might take a while...\n",
      "There are 1 sequencingExperiments. Are you sure you want to print them all?[Y/n]\n",
      "Y\n",
      "For submission with ID fa3c1415-82b2-4d11-aa4f-18c1271304c3, sequencingExperiments files are:\n",
      "lib_5\n",
      "Retrieving all sequencingRuns. This might take a while...\n",
      "There are 1 sequencingRuns. Are you sure you want to print them all?[Y/n]\n",
      "Y\n",
      "For submission with ID fa3c1415-82b2-4d11-aa4f-18c1271304c3, sequencingRuns files are:\n",
      "5386STDY7557335.bam\n"
     ]
    }
   ],
   "source": [
    "for submittable_type in dsp.accepted_submission_types:\n",
    "    dsp.show_submittable_names(submittable_type)"
   ]
  },
  {
   "cell_type": "markdown",
   "metadata": {},
   "source": [
    "## Show validation results for your submittables\n",
    "\n",
    "We are going to check that the submittables are valid. For the sake of this notebook, all of our submittables are valid except the `assay data`, which will be invalid due to the file not being uploaded."
   ]
  },
  {
   "cell_type": "code",
   "execution_count": 12,
   "metadata": {},
   "outputs": [
    {
     "name": "stdout",
     "output_type": "stream",
     "text": [
      "1 - For submittable with alias EmbryonicHindlimb, validation results are as following:\n",
      "\t\tCore:Pass\n",
      "\t\tEna:Pass\n",
      "\t\tJsonSchema:Pass\n",
      "\n",
      "2 - For submittable with alias lib_5, validation results are as following:\n",
      "\t\tCore:Error\n",
      "\t\tEna:Error\n",
      "\t\tJsonSchema:Error\n",
      "\n",
      "3 - For submittable with alias 5386STDY7557335.bam, validation results are as following:\n",
      "\t\tCore:Pass\n",
      "\t\tEna:Error\n",
      "\t\tFileReference:Error\n",
      "\t\tJsonSchema:Pass\n",
      "\n",
      "4 - For submittable with alias EmbryonicHindlimb, validation results are as following:\n",
      "\t\tBioStudies:Pass\n",
      "\t\tJsonSchema:Pass\n",
      "\n"
     ]
    },
    {
     "data": {
      "text/plain": [
       "''"
      ]
     },
     "execution_count": 12,
     "metadata": {},
     "output_type": "execute_result"
    }
   ],
   "source": [
    "dsp.show_validation_results() # Assumes you have selected a submission\n",
    ";"
   ]
  },
  {
   "cell_type": "markdown",
   "metadata": {},
   "source": [
    "This is an overall view for your submittables. To show the specific errors, you have to call the function `self.show_validation_errors()`:"
   ]
  },
  {
   "cell_type": "code",
   "execution_count": 13,
   "metadata": {},
   "outputs": [
    {
     "name": "stdout",
     "output_type": "stream",
     "text": [
      "lib_5\n",
      "\tSchema: Core\n",
      "\tError(s):\n",
      "\t\tCould not find reference for ALIAS: cell_suspension_5 in TEAM: subs.test-team-68 \n",
      "\n",
      "\n",
      "\n",
      "\tSchema: Ena\n",
      "\tError(s):\n",
      "\t\tFailed to validate experiment xml, error: string value 'HCA-Seq' is not a valid enumeration value for typeLibraryStrategy\n",
      "\n",
      "\n",
      "\n",
      "\tSchema: JsonSchema\n",
      "\tError(s):\n",
      "\t\t.attributes.library_strategy[0].value error(s): should be equal to one of the allowed values: [\"AMPLICON\",\"ATAC-seq\",\"Bisulfite-Seq\",\"ChIA-PET\",\"ChIP-Seq\",\"CLONE\",\"CLONEEND\",\"CTS\",\"DNase-Hypersensitivity\",\"EST\",\"FAIRE-seq\",\"FINISHING\",\"FL-cDNA\",\"Hi-C\",\"MBD-Seq\",\"MeDIP-Seq\",\"miRNA-Seq\",\"MNase-Seq\",\"MRE-Seq\",\"ncRNA-Seq\",\"OTHER\",\"POOLCLONE\",\"RAD-Seq\",\"RIP-Seq\",\"RNA-Seq\",\"SELEX\",\"ssRNA-seq\",\"Synthetic-Long-Read\",\"Targeted-Capture\",\"Tethered Chromatin Conformation Capture\",\"Tn-Seq\",\"VALIDATION\",\"WCS\",\"WGA\",\"WGS\",\"WXS\"].\n",
      "\n",
      "\n",
      "5386STDY7557335.bam\n",
      "\tSchema: Ena\n",
      "\tError(s):\n",
      "\t\tFailed to validate experiment xml, error: string value 'HCA-Seq' is not a valid enumeration value for typeLibraryStrategy\n",
      "\n",
      "\n",
      "\n",
      "\tSchema: FileReference\n",
      "\tError(s):\n",
      "\t\tThe file [5386STDY7557335.bam] referenced in the metadata is not exists on the file storage area.\n",
      "\n",
      "\n"
     ]
    },
    {
     "data": {
      "text/plain": [
       "''"
      ]
     },
     "execution_count": 13,
     "metadata": {},
     "output_type": "execute_result"
    }
   ],
   "source": [
    "dsp.show_validation_errors()\n",
    ";"
   ]
  },
  {
   "cell_type": "markdown",
   "metadata": {},
   "source": [
    "## Correct validation errors\n",
    "\n",
    "Oh no! We have introduced HCA-Seq instead of RNA-Seq as the library strategy!\n",
    "\n",
    "If there are validation errors, you can easily correct them by replacing the submittable. Luckily, there is a function for that in the class: `self.replace_submittable()`. We are going to call it with a the submittables corrected:"
   ]
  },
  {
   "cell_type": "code",
   "execution_count": 14,
   "metadata": {},
   "outputs": [
    {
     "name": "stdout",
     "output_type": "stream",
     "text": [
      "Replacement of sequencingExperiments lib_5 was successful!\n"
     ]
    },
    {
     "data": {
      "text/plain": [
       "<Response [200]>"
      ]
     },
     "execution_count": 14,
     "metadata": {},
     "output_type": "execute_result"
    }
   ],
   "source": [
    "replacement_path = '/Users/enrique/HumanCellAtlas/hca-to-dsp-tools/test_submission/assays__lib_5_replacement.json'\n",
    "\n",
    "dsp.replace_submittable(replacement_path, 'assays')"
   ]
  },
  {
   "cell_type": "markdown",
   "metadata": {},
   "source": [
    "We can check once again for the validation errors:"
   ]
  },
  {
   "cell_type": "code",
   "execution_count": 15,
   "metadata": {},
   "outputs": [
    {
     "name": "stdout",
     "output_type": "stream",
     "text": [
      "lib_5\n",
      "\tSchema: Core\n",
      "\tError(s):\n",
      "\t\tCould not find reference for ALIAS: cell_suspension_5 in TEAM: subs.test-team-68 \n",
      "\n",
      "\n",
      "5386STDY7557335.bam\n",
      "\tSchema: FileReference\n",
      "\tError(s):\n",
      "\t\tThe file [5386STDY7557335.bam] referenced in the metadata is not exists on the file storage area.\n",
      "\n",
      "\n"
     ]
    },
    {
     "data": {
      "text/plain": [
       "''"
      ]
     },
     "execution_count": 15,
     "metadata": {},
     "output_type": "execute_result"
    }
   ],
   "source": [
    "dsp.show_validation_errors()\n",
    ";"
   ]
  },
  {
   "cell_type": "markdown",
   "metadata": {},
   "source": [
    "## Upload files\n",
    "\n",
    "Once we have finished correcting all the metadata errors, we will notice that there is still 1 validation error: The file does not exist on the file storage area.\n",
    "\n",
    "We can easily change that by uploading the file with the provided method in the class:"
   ]
  },
  {
   "cell_type": "code",
   "execution_count": 16,
   "metadata": {
    "scrolled": true
   },
   "outputs": [
    {
     "name": "stdout",
     "output_type": "stream",
     "text": [
      "Uploading file 5386STDY7557335.bam...\n"
     ]
    },
    {
     "name": "stderr",
     "output_type": "stream",
     "text": [
      "100%|██████████| 309/309 [00:40<00:00,  7.62it/s]\n"
     ]
    }
   ],
   "source": [
    "path_to_file = '/Users/enrique/HumanCellAtlas/hca-to-dsp-tools/5386STDY7557335.bam'\n",
    "dsp.upload_file(path_to_file, chunk_size=300)"
   ]
  },
  {
   "cell_type": "markdown",
   "metadata": {},
   "source": [
    "For the purpose of the notebook, a mock, small size bam file has been used.\n",
    "\n",
    "If not specified, the chunk_size will default to 102400 (10 Mb). This provides with higher speeds on a more stable connection.\n",
    "\n",
    "### Resume file upload\n",
    "If the file stops uploading, fear not! You can either call `self.upload_file()` again (It will detect the filename from the path to file) or call `self.resume_file_upload(<filename>)`.\n",
    "\n",
    "We will interrupt a file upload and re-start it:\n"
   ]
  },
  {
   "cell_type": "code",
   "execution_count": 17,
   "metadata": {},
   "outputs": [
    {
     "name": "stdout",
     "output_type": "stream",
     "text": [
      "Uploading file 5386STDY7557335.bam...\n",
      "Seems like this file is giving an error. This might be due to the file being resumed from anupload. Trying to resume upload for file 5386STDY7557335.bam\n",
      "https://submission-test.ebi.ac.uk/files/08e44848f06aea3611fb01f08b55fe2d\n",
      "Resuming file upload of 5386STDY7557335.bam...\n"
     ]
    },
    {
     "name": "stderr",
     "output_type": "stream",
     "text": [
      "100%|██████████| 245/245 [00:31<00:00,  7.88it/s]\n"
     ]
    }
   ],
   "source": [
    "dsp.upload_file(path_to_file, chunk_size=300)"
   ]
  },
  {
   "cell_type": "markdown",
   "metadata": {},
   "source": [
    "**Note**: Please make sure that you are in the right submission before uploading files. Files will be associated to the submission selected at the moment of upload.\n",
    "\n",
    "### Delete file\n",
    "If you want to delete a file, you just need to use the method `self.delete_file(<filename>)`:"
   ]
  },
  {
   "cell_type": "code",
   "execution_count": 18,
   "metadata": {},
   "outputs": [
    {
     "name": "stdout",
     "output_type": "stream",
     "text": [
      "Successfully deleted file\n"
     ]
    },
    {
     "data": {
      "text/plain": [
       "<Response [204]>"
      ]
     },
     "execution_count": 18,
     "metadata": {},
     "output_type": "execute_result"
    }
   ],
   "source": [
    "dsp.delete_file('5386STDY7557335.bam')"
   ]
  },
  {
   "cell_type": "markdown",
   "metadata": {},
   "source": [
    "# Finishing the submission\n",
    "\n",
    "Once everything is in order and there are no validation errors, you should be able to finish the submission by using the function `self.finish_submission()`. \n",
    "\n",
    "For the sake of this notebook, instead of finishing, we are going to delete the submission and the team.\n",
    "\n",
    "Currently there are no functions to do that so we will do it manually."
   ]
  },
  {
   "cell_type": "code",
   "execution_count": 19,
   "metadata": {},
   "outputs": [
    {
     "data": {
      "text/plain": [
       "<Response [204]>"
      ]
     },
     "execution_count": 19,
     "metadata": {},
     "output_type": "execute_result"
    }
   ],
   "source": [
    "dsp._delete(dsp.submission.get('_links', {}).get('self:delete', {}).get('href')) # Delete the submission\n",
    "\n",
    "# To delete the team, access the AAP webpage (https://explore.aai.ebi.ac.uk/) and deactivate the domain."
   ]
  },
  {
   "cell_type": "markdown",
   "metadata": {},
   "source": [
    "# What other things can I do?\n",
    "\n",
    "- Delete submittables: `self.delete_submittable(<submittable_type>, <alias>)`\n",
    "- Show submission status: `self.show_submission_status()`"
   ]
  }
 ],
 "metadata": {
  "kernelspec": {
   "display_name": "Python 3",
   "language": "python",
   "name": "python3"
  },
  "language_info": {
   "codemirror_mode": {
    "name": "ipython",
    "version": 3
   },
   "file_extension": ".py",
   "mimetype": "text/x-python",
   "name": "python",
   "nbconvert_exporter": "python",
   "pygments_lexer": "ipython3",
   "version": "3.7.5"
  }
 },
 "nbformat": 4,
 "nbformat_minor": 2
}
